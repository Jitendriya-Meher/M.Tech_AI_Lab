{
 "cells": [
  {
   "cell_type": "code",
   "execution_count": 1,
   "metadata": {},
   "outputs": [
    {
     "name": "stdout",
     "output_type": "stream",
     "text": [
      "P(Burglary = 1 | JohnCalls = 1, MaryCalls = 1): 0.28417\n"
     ]
    }
   ],
   "source": [
    "# Define the conditional probability tables (CPTs)\n",
    "prob_burglary = {0: 0.999, 1: 0.001}  # P(Burglary)\n",
    "prob_earthquake = {0: 0.998, 1: 0.002}  # P(Earthquake)\n",
    "prob_alarm = {  # P(Alarm | Burglary, Earthquake)\n",
    "    (0, 0): {0: 0.999, 1: 0.001},\n",
    "    (0, 1): {0: 0.71, 1: 0.29},\n",
    "    (1, 0): {0: 0.06, 1: 0.94},\n",
    "    (1, 1): {0: 0.05, 1: 0.95}\n",
    "}\n",
    "prob_john_calls = {  # P(JohnCalls | Alarm)\n",
    "    0: {0: 0.95, 1: 0.05},\n",
    "    1: {0: 0.1, 1: 0.9}\n",
    "}\n",
    "prob_mary_calls = {  # P(MaryCalls | Alarm)\n",
    "    0: {0: 0.99, 1: 0.01},\n",
    "    1: {0: 0.3, 1: 0.7}\n",
    "}\n",
    "\n",
    "# Function to compute joint probability\n",
    "def joint_probability(burglary, earthquake, alarm, john_calls, mary_calls):\n",
    "    # P(Burglary) * P(Earthquake) * P(Alarm | Burglary, Earthquake) * P(JohnCalls | Alarm) * P(MaryCalls | Alarm)\n",
    "    p_b = prob_burglary[burglary]\n",
    "    p_e = prob_earthquake[earthquake]\n",
    "    p_a = prob_alarm[(burglary, earthquake)][alarm]\n",
    "    p_j = prob_john_calls[alarm][john_calls]\n",
    "    p_m = prob_mary_calls[alarm][mary_calls]\n",
    "    return p_b * p_e * p_a * p_j * p_m\n",
    "\n",
    "# Enumerate all possibilities to calculate posterior probability\n",
    "def calculate_posterior(evidence):\n",
    "    # Evidence is a dictionary with observed values (e.g., {'JohnCalls': 1, 'MaryCalls': 1})\n",
    "    john_calls = evidence['JohnCalls']\n",
    "    mary_calls = evidence['MaryCalls']\n",
    "    \n",
    "    # Marginalize over unobserved variables\n",
    "    total_prob = 0\n",
    "    burglary_true_prob = 0\n",
    "    \n",
    "    for burglary in [0, 1]:\n",
    "        for earthquake in [0, 1]:\n",
    "            for alarm in [0, 1]:\n",
    "                joint_prob = joint_probability(burglary, earthquake, alarm, john_calls, mary_calls)\n",
    "                total_prob += joint_prob\n",
    "                if burglary == 1:\n",
    "                    burglary_true_prob += joint_prob\n",
    "    \n",
    "    # Normalize to get P(Burglary = 1 | Evidence)\n",
    "    return burglary_true_prob / total_prob\n",
    "\n",
    "# Query the network\n",
    "evidence = {'JohnCalls': 1, 'MaryCalls': 1}\n",
    "posterior = calculate_posterior(evidence)\n",
    "print(f\"P(Burglary = 1 | JohnCalls = 1, MaryCalls = 1): {posterior:.5f}\")\n"
   ]
  }
 ],
 "metadata": {
  "kernelspec": {
   "display_name": "Python 3",
   "language": "python",
   "name": "python3"
  },
  "language_info": {
   "codemirror_mode": {
    "name": "ipython",
    "version": 3
   },
   "file_extension": ".py",
   "mimetype": "text/x-python",
   "name": "python",
   "nbconvert_exporter": "python",
   "pygments_lexer": "ipython3",
   "version": "3.11.0"
  }
 },
 "nbformat": 4,
 "nbformat_minor": 2
}
