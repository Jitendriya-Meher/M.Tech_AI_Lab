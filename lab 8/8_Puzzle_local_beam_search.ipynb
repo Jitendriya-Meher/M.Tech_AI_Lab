{
 "cells": [
  {
   "cell_type": "code",
   "execution_count": 140,
   "metadata": {},
   "outputs": [],
   "source": [
    "from queue import PriorityQueue\n",
    "import copy"
   ]
  },
  {
   "cell_type": "code",
   "execution_count": 141,
   "metadata": {},
   "outputs": [],
   "source": [
    "def printPuzzle(puzzle):\n",
    "    for row in puzzle:\n",
    "        print(row)\n",
    "    print()"
   ]
  },
  {
   "cell_type": "code",
   "execution_count": 142,
   "metadata": {},
   "outputs": [],
   "source": [
    "def find_Pos(state, val=0):\n",
    "    \n",
    "    for i in range(3):\n",
    "        for j in range(3):\n",
    "            if state[i][j] == val:\n",
    "                return i, j"
   ]
  },
  {
   "cell_type": "code",
   "execution_count": 143,
   "metadata": {},
   "outputs": [],
   "source": [
    "def manhattan_distance(state,GOAL_STATE):\n",
    "\n",
    "    distance = 0\n",
    "    \n",
    "    for i in range(3):\n",
    "        for j in range(3):\n",
    "            if state[i][j] != 0:\n",
    "                correct_i, correct_j = find_Pos(GOAL_STATE, state[i][j])\n",
    "                distance += abs(i - correct_i) + abs(j - correct_j)\n",
    "\n",
    "    return distance"
   ]
  },
  {
   "cell_type": "code",
   "execution_count": 144,
   "metadata": {},
   "outputs": [],
   "source": [
    "def generate_successors(state):\n",
    "    \n",
    "    successors = []\n",
    "    i, j = find_Pos(state)\n",
    "    directions = [(-1, 0), (1, 0), (0, -1), (0, 1)]\n",
    "    \n",
    "    for di, dj in directions:\n",
    "        new_i, new_j = i + di, j + dj\n",
    "        \n",
    "        if 0 <= new_i < 3 and 0 <= new_j < 3:\n",
    "            new_state = copy.deepcopy(state)\n",
    "            new_state[i][j], new_state[new_i][new_j] = new_state[new_i][new_j], new_state[i][j]\n",
    "            successors.append(new_state)\n",
    "\n",
    "    return successors"
   ]
  },
  {
   "cell_type": "code",
   "execution_count": null,
   "metadata": {},
   "outputs": [],
   "source": [
    "def local_beam_search(start_state, GOAL_STATE ,k=3):\n",
    "    \n",
    "    states = [start_state]\n",
    "    level = 0\n",
    "\n",
    "    while True:\n",
    "\n",
    "        print(\"level = \", level)\n",
    "\n",
    "        for state in states:\n",
    "            printPuzzle(state)\n",
    "\n",
    "        for state in states:\n",
    "            if state == GOAL_STATE:\n",
    "                return state,level\n",
    "            \n",
    "        successors = []\n",
    "        level = level + 1\n",
    "\n",
    "        pq = PriorityQueue()\n",
    "\n",
    "        for state in states:\n",
    "            childs = generate_successors(state)\n",
    "            for child in childs:\n",
    "                # printPuzzle(child)\n",
    "                successors.append(child)\n",
    "        \n",
    "        for succ in successors:\n",
    "            distance = manhattan_distance(succ, GOAL_STATE)\n",
    "            pq.put(( distance, succ))\n",
    "        \n",
    "        new_states = []\n",
    "        for i in range(0,k):\n",
    "            dis , child = pq.get()\n",
    "            # print(child)\n",
    "            new_states.append(child)\n",
    "        \n",
    "        states = copy.deepcopy(new_states)\n",
    "\n",
    "    return None"
   ]
  },
  {
   "cell_type": "code",
   "execution_count": 146,
   "metadata": {},
   "outputs": [
    {
     "name": "stdout",
     "output_type": "stream",
     "text": [
      "level =  0\n",
      "[1, 2, 3]\n",
      "[4, 0, 6]\n",
      "[7, 5, 8]\n",
      "\n",
      "level =  1\n",
      "[1, 2, 3]\n",
      "[4, 5, 6]\n",
      "[7, 0, 8]\n",
      "\n",
      "[1, 0, 3]\n",
      "[4, 2, 6]\n",
      "[7, 5, 8]\n",
      "\n",
      "[1, 2, 3]\n",
      "[0, 4, 6]\n",
      "[7, 5, 8]\n",
      "\n",
      "level =  2\n",
      "[1, 2, 3]\n",
      "[4, 5, 6]\n",
      "[7, 8, 0]\n",
      "\n",
      "[1, 2, 3]\n",
      "[4, 0, 6]\n",
      "[7, 5, 8]\n",
      "\n",
      "[1, 2, 3]\n",
      "[4, 0, 6]\n",
      "[7, 5, 8]\n",
      "\n",
      "Solution is at level  2\n",
      "[1, 2, 3]\n",
      "[4, 5, 6]\n",
      "[7, 8, 0]\n",
      "\n"
     ]
    }
   ],
   "source": [
    "start_state = [\n",
    "    [1, 2, 3],\n",
    "    [4, 0, 6],\n",
    "    [7, 5, 8]\n",
    "]\n",
    "\n",
    "GOAL_STATE = [\n",
    "    [1, 2, 3],\n",
    "    [4, 5, 6],\n",
    "    [7, 8, 0]\n",
    "]\n",
    "\n",
    "k = 3\n",
    "\n",
    "solution,level = local_beam_search(start_state, GOAL_STATE ,k)\n",
    "print(\"Solution is at level \", level)\n",
    "printPuzzle(solution)"
   ]
  }
 ],
 "metadata": {
  "kernelspec": {
   "display_name": "Python 3",
   "language": "python",
   "name": "python3"
  },
  "language_info": {
   "codemirror_mode": {
    "name": "ipython",
    "version": 3
   },
   "file_extension": ".py",
   "mimetype": "text/x-python",
   "name": "python",
   "nbconvert_exporter": "python",
   "pygments_lexer": "ipython3",
   "version": "3.11.0"
  }
 },
 "nbformat": 4,
 "nbformat_minor": 2
}
