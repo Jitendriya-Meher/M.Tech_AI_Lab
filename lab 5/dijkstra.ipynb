{
 "cells": [
  {
   "cell_type": "code",
   "execution_count": 11,
   "metadata": {},
   "outputs": [],
   "source": [
    "from queue import PriorityQueue\n",
    "q = PriorityQueue()"
   ]
  },
  {
   "cell_type": "code",
   "execution_count": 12,
   "metadata": {},
   "outputs": [],
   "source": [
    "def dijkstra(graph, start):\n",
    "\n",
    "    # distances = {node: float('inf') for node in graph}\n",
    "    distances = {}\n",
    "    for node in graph:\n",
    "        distances[node] = float('inf')\n",
    "    print(distances)\n",
    "\n",
    "    distances[start] = 0\n",
    "    q.put((0,start))\n",
    "    \n",
    "    while not q.empty():\n",
    "        current_distance, current_node = q.get()\n",
    "            \n",
    "        for (nei,weight) in graph[current_node]:\n",
    "            if( (current_distance + weight) < distances[nei]):\n",
    "                distances[nei] = current_distance + weight\n",
    "                q.put((distances[nei], nei))\n",
    "    \n",
    "    return distances"
   ]
  },
  {
   "cell_type": "code",
   "execution_count": 13,
   "metadata": {},
   "outputs": [
    {
     "name": "stdout",
     "output_type": "stream",
     "text": [
      "{'S': inf, 'A': inf, 'B': inf, 'C': inf, 'D': inf, 'E': inf}\n",
      "{'S': 0, 'A': 2, 'B': 4, 'C': 5, 'D': 6, 'E': 8}\n"
     ]
    }
   ],
   "source": [
    "graph = {\n",
    "    'S': [('A', 2), ('B', 4)],\n",
    "    'A': [('B', 5), ('C', 3)],\n",
    "    'B': [('C', 3), ('D', 2)],\n",
    "    'C': [('D', 1), ('E', 3)],\n",
    "    'D': [('E', 2)],\n",
    "    'E': []\n",
    "}\n",
    "\n",
    "distances = dijkstra(graph, 'S')\n",
    "\n",
    "print(distances)"
   ]
  }
 ],
 "metadata": {
  "kernelspec": {
   "display_name": "Python 3",
   "language": "python",
   "name": "python3"
  },
  "language_info": {
   "codemirror_mode": {
    "name": "ipython",
    "version": 3
   },
   "file_extension": ".py",
   "mimetype": "text/x-python",
   "name": "python",
   "nbconvert_exporter": "python",
   "pygments_lexer": "ipython3",
   "version": "3.11.0"
  }
 },
 "nbformat": 4,
 "nbformat_minor": 2
}
