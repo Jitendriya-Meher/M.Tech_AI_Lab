{
 "cells": [
  {
   "cell_type": "code",
   "execution_count": 13,
   "metadata": {},
   "outputs": [],
   "source": [
    "def saveQueen( chessBoard, row, col):\n",
    "    n = len(chessBoard)\n",
    "\n",
    "    # check horizontally\n",
    "    i = row\n",
    "    j = col\n",
    "    while j>=0:\n",
    "        if chessBoard[i][j] == 'Q':\n",
    "            return False\n",
    "        j = j-1\n",
    "    \n",
    "    # check upper diagonal\n",
    "    i = row\n",
    "    j = col\n",
    "    while i>=0 and j>=0:\n",
    "        if chessBoard[i][j] == 'Q':\n",
    "            return False\n",
    "        j = j-1\n",
    "        i = i-1\n",
    "    \n",
    "    # check lower diagonal\n",
    "    i = row\n",
    "    j = col\n",
    "    while i<n and j>=0:\n",
    "        if chessBoard[i][j] == 'Q':\n",
    "            return False\n",
    "        j = j-1\n",
    "        i = i+1\n",
    "\n",
    "    return True"
   ]
  },
  {
   "cell_type": "code",
   "execution_count": 14,
   "metadata": {},
   "outputs": [],
   "source": [
    "def printBoard( board):\n",
    "    for row in board:\n",
    "        print(row)\n",
    "    print()"
   ]
  },
  {
   "cell_type": "code",
   "execution_count": 15,
   "metadata": {},
   "outputs": [],
   "source": [
    "def placeQueens( chessBoard , col):\n",
    "    n = len(chessBoard)\n",
    "\n",
    "    if col >= n:\n",
    "        printBoard(chessBoard)\n",
    "        return\n",
    "\n",
    "    for row in range (n):\n",
    "        if saveQueen( chessBoard, row,col):\n",
    "            chessBoard[row][col] = 'Q'\n",
    "            placeQueens(chessBoard, col + 1)\n",
    "        chessBoard[row][col] = ' '"
   ]
  },
  {
   "cell_type": "code",
   "execution_count": 16,
   "metadata": {},
   "outputs": [
    {
     "name": "stdout",
     "output_type": "stream",
     "text": [
      "chess board : \n",
      "\n",
      "[' ', ' ', 'Q', ' ']\n",
      "['Q', ' ', ' ', ' ']\n",
      "[' ', ' ', ' ', 'Q']\n",
      "[' ', 'Q', ' ', ' ']\n",
      "\n",
      "[' ', 'Q', ' ', ' ']\n",
      "[' ', ' ', ' ', 'Q']\n",
      "['Q', ' ', ' ', ' ']\n",
      "[' ', ' ', 'Q', ' ']\n",
      "\n"
     ]
    }
   ],
   "source": [
    "n = 4\n",
    "\n",
    "chessBoard = []\n",
    "for i in range (n):\n",
    "    temp = []\n",
    "    for j in range (n):\n",
    "        temp.append(\" \")\n",
    "    chessBoard.append(temp)\n",
    "\n",
    "print(\"chess board : \\n\")\n",
    "# print(chessBoard)\n",
    "\n",
    "placeQueens( chessBoard , 0)\n"
   ]
  }
 ],
 "metadata": {
  "kernelspec": {
   "display_name": "Python 3",
   "language": "python",
   "name": "python3"
  },
  "language_info": {
   "codemirror_mode": {
    "name": "ipython",
    "version": 3
   },
   "file_extension": ".py",
   "mimetype": "text/x-python",
   "name": "python",
   "nbconvert_exporter": "python",
   "pygments_lexer": "ipython3",
   "version": "3.11.0"
  }
 },
 "nbformat": 4,
 "nbformat_minor": 2
}
