{
 "cells": [
  {
   "cell_type": "code",
   "execution_count": 8,
   "metadata": {},
   "outputs": [],
   "source": [
    "from collections import deque"
   ]
  },
  {
   "cell_type": "code",
   "execution_count": 9,
   "metadata": {},
   "outputs": [],
   "source": [
    "moves = [(0,-1),(0,1),(-1,0),(1,0)]"
   ]
  },
  {
   "cell_type": "code",
   "execution_count": 10,
   "metadata": {},
   "outputs": [],
   "source": [
    "def findPos( state):\n",
    "    for i in range (3):\n",
    "        for j in range(3):\n",
    "            if( state[i][j] == 0):\n",
    "                return i,j"
   ]
  },
  {
   "cell_type": "code",
   "execution_count": 11,
   "metadata": {},
   "outputs": [],
   "source": [
    "def validPos( x, y):\n",
    "    if x>=0 and x<3 and y>=0 and y<3:\n",
    "        return True\n",
    "    return False"
   ]
  },
  {
   "cell_type": "code",
   "execution_count": 12,
   "metadata": {},
   "outputs": [],
   "source": [
    "def printArr(arr):\n",
    "    for row in arr:\n",
    "        print(row)\n",
    "    print()"
   ]
  },
  {
   "cell_type": "code",
   "execution_count": 13,
   "metadata": {},
   "outputs": [],
   "source": [
    "def BFS( start_state, goal_state):\n",
    "    queue = deque([(start_state, [])])\n",
    "    visited = set()\n",
    "    visited.add(tuple(tuple(row) for row in start_state))\n",
    "    # print(visited)\n",
    "\n",
    "    while queue:\n",
    "        current, path = queue.popleft()\n",
    "        # print(current)\n",
    "\n",
    "        if current == goal_state:\n",
    "            return path\n",
    "        \n",
    "        x,y = findPos(current)\n",
    "        # print(x,y)\n",
    "\n",
    "        for move in moves:\n",
    "            new_x = x + move[0]\n",
    "            new_y = y + move[1]\n",
    "\n",
    "            if validPos(new_x, new_y):\n",
    "                new_state = [row[:] for row in current]\n",
    "                new_state[x][y],new_state[new_x][new_y] = new_state[new_x][new_y],new_state[x][y]\n",
    "                # print(new_state)\n",
    "\n",
    "                new_state_tupple = tuple(tuple(row) for row in new_state)\n",
    "\n",
    "                if new_state_tupple not in visited:\n",
    "                    visited.add(new_state_tupple)\n",
    "                    queue.append((new_state, path+[new_state]))\n",
    "\n",
    "    return -1\n"
   ]
  },
  {
   "cell_type": "code",
   "execution_count": 14,
   "metadata": {},
   "outputs": [
    {
     "name": "stdout",
     "output_type": "stream",
     "text": [
      "[1, 2, 3]\n",
      "[4, 0, 5]\n",
      "[6, 7, 8]\n",
      "\n",
      "[1, 2, 3]\n",
      "[4, 5, 0]\n",
      "[6, 7, 8]\n",
      "\n",
      "[1, 2, 3]\n",
      "[4, 5, 8]\n",
      "[6, 7, 0]\n",
      "\n",
      "[1, 2, 3]\n",
      "[4, 5, 8]\n",
      "[6, 0, 7]\n",
      "\n",
      "[1, 2, 3]\n",
      "[4, 5, 8]\n",
      "[0, 6, 7]\n",
      "\n"
     ]
    }
   ],
   "source": [
    "start_state = [\n",
    "    [1,2,3],\n",
    "    [4,0,5],\n",
    "    [6,7,8]\n",
    "]\n",
    "goal_state = [\n",
    "    [1,2,3],\n",
    "    [4,5,8],\n",
    "    [0,6,7]\n",
    "]\n",
    "\n",
    "printArr(start_state)\n",
    "ans = BFS(start_state,goal_state)\n",
    "\n",
    "if ans == -1:\n",
    "    print(\"Path not possible\")\n",
    "else:\n",
    "    for arr in ans:\n",
    "        printArr(arr)"
   ]
  }
 ],
 "metadata": {
  "kernelspec": {
   "display_name": "Python 3",
   "language": "python",
   "name": "python3"
  },
  "language_info": {
   "codemirror_mode": {
    "name": "ipython",
    "version": 3
   },
   "file_extension": ".py",
   "mimetype": "text/x-python",
   "name": "python",
   "nbconvert_exporter": "python",
   "pygments_lexer": "ipython3",
   "version": "3.11.0"
  }
 },
 "nbformat": 4,
 "nbformat_minor": 2
}
