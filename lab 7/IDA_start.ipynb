{
 "cells": [
  {
   "cell_type": "code",
   "execution_count": 42,
   "metadata": {},
   "outputs": [],
   "source": [
    "def iterative_deepening_a_star_rec(graph, heuristic, node, goal, distance, threshold):\n",
    "\n",
    "    print(\"Visiting Node \" + str(node))\n",
    "\n",
    "    if node == goal:\n",
    "        return True, distance\n",
    "\n",
    "    curr_threshold = distance + heuristic[node]\n",
    "\n",
    "    if( curr_threshold > threshold ):\n",
    "        return False, curr_threshold\n",
    "    \n",
    "    new_threshold = float(\"inf\")\n",
    "\n",
    "    for neighbor, weight in graph[node]:\n",
    "        found,nei_threshold = iterative_deepening_a_star_rec(graph, heuristic, neighbor, goal, distance + weight, threshold)\n",
    "        if found == True:\n",
    "            return True, nei_threshold\n",
    "        elif nei_threshold < new_threshold:\n",
    "            new_threshold = nei_threshold\n",
    "\n",
    "    return False, new_threshold"
   ]
  },
  {
   "cell_type": "code",
   "execution_count": null,
   "metadata": {},
   "outputs": [],
   "source": [
    "def iterative_deepening_a_star(graph, heuristic, start, goal):\n",
    "    threshold = heuristic[start]\n",
    "\n",
    "    while True:\n",
    "        print(\"Iteration with threshold: \" + str(threshold))\n",
    "        found , answer = iterative_deepening_a_star_rec(graph, heuristic, start, goal, 0, threshold)\n",
    "        if found == True:\n",
    "            print(\"Found the node we're looking for!\")\n",
    "            return answer\n",
    "        elif answer == float(\"inf\"):\n",
    "            print(f\"The Node {goal} is not preset in the Graph!\")\n",
    "            return -1\n",
    "        else:\n",
    "            threshold = answer"
   ]
  },
  {
   "cell_type": "code",
   "execution_count": 44,
   "metadata": {},
   "outputs": [
    {
     "name": "stdout",
     "output_type": "stream",
     "text": [
      "Iteration with threshold: 7\n",
      "Visiting Node A\n",
      "Visiting Node B\n",
      "Visiting Node D\n",
      "Visiting Node E\n",
      "Visiting Node C\n",
      "Iteration with threshold: 8\n",
      "Visiting Node A\n",
      "Visiting Node B\n",
      "Visiting Node D\n",
      "Visiting Node E\n",
      "Visiting Node H\n",
      "Found the node we're looking for!\n"
     ]
    },
    {
     "data": {
      "text/plain": [
       "9"
      ]
     },
     "execution_count": 44,
     "metadata": {},
     "output_type": "execute_result"
    }
   ],
   "source": [
    "graph = {\n",
    "    'A': [('B', 1), ('C', 4)],\n",
    "    'B': [('D', 2), ('E', 5)],\n",
    "    'C': [('F', 3), ('G', 6)],\n",
    "    'D': [],\n",
    "    'E': [('H', 3)],\n",
    "    'F': [],\n",
    "    'G': [('H', 1)],\n",
    "    'H': []\n",
    "}\n",
    "\n",
    "heuristic = {\n",
    "    'A': 7,\n",
    "    'B': 6,\n",
    "    'C': 4,\n",
    "    'D': 6,\n",
    "    'E': 2,\n",
    "    'F': 5,\n",
    "    'G': 3,\n",
    "    'H': 0  \n",
    "}\n",
    "\n",
    "start, goal = 'A', 'H'\n",
    "iterative_deepening_a_star(graph, heuristic, start, goal)"
   ]
  }
 ],
 "metadata": {
  "kernelspec": {
   "display_name": "Python 3",
   "language": "python",
   "name": "python3"
  },
  "language_info": {
   "codemirror_mode": {
    "name": "ipython",
    "version": 3
   },
   "file_extension": ".py",
   "mimetype": "text/x-python",
   "name": "python",
   "nbconvert_exporter": "python",
   "pygments_lexer": "ipython3",
   "version": "3.11.0"
  }
 },
 "nbformat": 4,
 "nbformat_minor": 2
}
