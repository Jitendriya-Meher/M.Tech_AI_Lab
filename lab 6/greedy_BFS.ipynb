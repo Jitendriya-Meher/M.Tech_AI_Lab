{
 "cells": [
  {
   "cell_type": "code",
   "execution_count": 4,
   "metadata": {},
   "outputs": [],
   "source": [
    "from queue import PriorityQueue\n",
    "pq = PriorityQueue()"
   ]
  },
  {
   "cell_type": "code",
   "execution_count": null,
   "metadata": {},
   "outputs": [],
   "source": [
    "def greedy_best_first_search(graph, start, goal, heuristic):\n",
    "\n",
    "    visted = {}\n",
    "\n",
    "    pq.put((heuristic[start], start, []))\n",
    "    visted[start] = True\n",
    "\n",
    "    while ( not pq.empty()):\n",
    "        hst_cost, node, path = pq.get()\n",
    "        path = path + [node]\n",
    "\n",
    "        if node == goal:\n",
    "            return path\n",
    "        else:\n",
    "            for neighbor in graph[node]:\n",
    "                if ( neighbor not in visted):\n",
    "                    pq.put(( heuristic[neighbor], neighbor, path))\n",
    "                    visted[neighbor] = True\n",
    "    \n",
    "    return None"
   ]
  },
  {
   "cell_type": "code",
   "execution_count": 6,
   "metadata": {},
   "outputs": [
    {
     "name": "stdout",
     "output_type": "stream",
     "text": [
      "Path from A to H: ['A', 'B', 'E', 'H']\n"
     ]
    }
   ],
   "source": [
    "graph = {\n",
    "    'A': ['B', 'C'],\n",
    "    'B': ['D', 'E'],\n",
    "    'C': ['F', 'G'],\n",
    "    'D': [],\n",
    "    'E': ['H'],\n",
    "    'F': [],\n",
    "    'G': ['H'],\n",
    "    'H': []\n",
    "}\n",
    "\n",
    "heuristic = {\n",
    "    'A': 5,\n",
    "    'B': 2,\n",
    "    'C': 4,\n",
    "    'D': 6,\n",
    "    'E': 1,\n",
    "    'F': 5,\n",
    "    'G': 3,\n",
    "    'H': 0  \n",
    "}\n",
    "\n",
    "start, goal = 'A', 'H'\n",
    "result = greedy_best_first_search(graph, start, goal, heuristic)\n",
    "\n",
    "if result:\n",
    "    print(f\"Path from {start} to {goal}: {result}\")\n",
    "else:\n",
    "    print(f\"No path found from {start} to {goal}\")"
   ]
  }
 ],
 "metadata": {
  "kernelspec": {
   "display_name": "Python 3",
   "language": "python",
   "name": "python3"
  },
  "language_info": {
   "codemirror_mode": {
    "name": "ipython",
    "version": 3
   },
   "file_extension": ".py",
   "mimetype": "text/x-python",
   "name": "python",
   "nbconvert_exporter": "python",
   "pygments_lexer": "ipython3",
   "version": "3.11.0"
  }
 },
 "nbformat": 4,
 "nbformat_minor": 2
}
