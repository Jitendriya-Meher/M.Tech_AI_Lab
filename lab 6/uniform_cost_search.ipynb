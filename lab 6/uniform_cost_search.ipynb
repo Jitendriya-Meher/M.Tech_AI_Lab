{
 "cells": [
  {
   "cell_type": "code",
   "execution_count": 10,
   "metadata": {},
   "outputs": [],
   "source": [
    "from queue import PriorityQueue\n",
    "pq = PriorityQueue()"
   ]
  },
  {
   "cell_type": "code",
   "execution_count": 11,
   "metadata": {},
   "outputs": [],
   "source": [
    "def uniform_cost_search(graph, start, goal):\n",
    "    \n",
    "    pq.put((0, start, []))\n",
    "\n",
    "    while( not pq.empty() ):\n",
    "        cost,node,path = pq.get()\n",
    "        path = path + [node]\n",
    "\n",
    "        if node == goal:\n",
    "            return cost , path\n",
    "        else:\n",
    "            for neighbor, edge_cost in graph[node]:\n",
    "                new_cost = cost + edge_cost\n",
    "                pq.put( (new_cost, neighbor, path) )\n",
    "    \n",
    "    return None"
   ]
  },
  {
   "cell_type": "code",
   "execution_count": 12,
   "metadata": {},
   "outputs": [
    {
     "name": "stdout",
     "output_type": "stream",
     "text": [
      "Lowest-cost path from S to E: ['S', 'A', 'C', 'E'] with cost 8\n"
     ]
    }
   ],
   "source": [
    "graph = {\n",
    "    'S': [('A', 2), ('B', 4)],\n",
    "    'A': [('B', 5), ('C', 3)],\n",
    "    'B': [('C', 3), ('D', 2)],\n",
    "    'C': [('D', 1), ('E', 3)],\n",
    "    'D': [('E', 2)],\n",
    "    'E': []\n",
    "}\n",
    "\n",
    "start, goal = 'S', 'E'\n",
    "result = uniform_cost_search(graph, start, goal)\n",
    "\n",
    "if result:\n",
    "    cost, path = result\n",
    "    print(f\"Lowest-cost path from {start} to {goal}: {path} with cost {cost}\")\n",
    "else:\n",
    "    print(f\"No path found from {start} to {goal}\")"
   ]
  }
 ],
 "metadata": {
  "kernelspec": {
   "display_name": "Python 3",
   "language": "python",
   "name": "python3"
  },
  "language_info": {
   "codemirror_mode": {
    "name": "ipython",
    "version": 3
   },
   "file_extension": ".py",
   "mimetype": "text/x-python",
   "name": "python",
   "nbconvert_exporter": "python",
   "pygments_lexer": "ipython3",
   "version": "3.11.0"
  }
 },
 "nbformat": 4,
 "nbformat_minor": 2
}
