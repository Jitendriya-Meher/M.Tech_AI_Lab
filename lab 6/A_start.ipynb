{
 "cells": [
  {
   "cell_type": "code",
   "execution_count": 11,
   "metadata": {},
   "outputs": [],
   "source": [
    "from queue import PriorityQueue\n",
    "pq = PriorityQueue()"
   ]
  },
  {
   "cell_type": "code",
   "execution_count": 12,
   "metadata": {},
   "outputs": [],
   "source": [
    "def a_star(graph, start, goal, heuristic):\n",
    "    \n",
    "    visted = {}\n",
    "    \n",
    "    pq.put( ( heuristic[start], 0, start, []) )\n",
    "    visted[start] = True\n",
    "\n",
    "    while ( not pq.empty() ):\n",
    "        total_cost, path_cost, node, path = pq.get()\n",
    "        path = path + [node]\n",
    "\n",
    "        if node == goal:\n",
    "            return path_cost, path\n",
    "        else:\n",
    "            for neighbor, edge_cost in graph[node]:\n",
    "                if ( neighbor not in visted):\n",
    "                    new_path_cost = path_cost + edge_cost\n",
    "                    new_total_cost = new_path_cost + heuristic[neighbor]\n",
    "                    pq.put( ( new_total_cost, new_path_cost, neighbor, path ) )\n",
    "                    visted[neighbor] = True\n",
    "\n",
    "    return None"
   ]
  },
  {
   "cell_type": "code",
   "execution_count": 13,
   "metadata": {},
   "outputs": [
    {
     "name": "stdout",
     "output_type": "stream",
     "text": [
      "Lowest-cost path from A to E: ['A', 'C', 'D', 'E'] with cost 8\n"
     ]
    }
   ],
   "source": [
    "graph = {\n",
    "    'A': [('B', 1), ('C', 4)],\n",
    "    'B': [('C', 2), ('D', 5)],\n",
    "    'C': [('D', 1)],\n",
    "    'D': [('E', 3)],\n",
    "    'E': []\n",
    "}\n",
    "\n",
    "heuristic = {\n",
    "    'A': 7,\n",
    "    'B': 6,\n",
    "    'C': 2,\n",
    "    'D': 1,\n",
    "    'E': 0  \n",
    "}\n",
    "\n",
    "start, goal = 'A', 'E'\n",
    "result = a_star(graph, start, goal, heuristic)\n",
    "\n",
    "if result:\n",
    "    cost, path = result\n",
    "    print(f\"Lowest-cost path from {start} to {goal}: {path} with cost {cost}\")\n",
    "else:\n",
    "    print(f\"No path found from {start} to {goal}\")\n"
   ]
  }
 ],
 "metadata": {
  "kernelspec": {
   "display_name": "Python 3",
   "language": "python",
   "name": "python3"
  },
  "language_info": {
   "codemirror_mode": {
    "name": "ipython",
    "version": 3
   },
   "file_extension": ".py",
   "mimetype": "text/x-python",
   "name": "python",
   "nbconvert_exporter": "python",
   "pygments_lexer": "ipython3",
   "version": "3.11.0"
  }
 },
 "nbformat": 4,
 "nbformat_minor": 2
}
