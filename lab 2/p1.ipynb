{
 "cells": [
  {
   "cell_type": "code",
   "execution_count": 40,
   "metadata": {},
   "outputs": [],
   "source": [
    "def cleanRoom( room , i, j, rows, cols ,vis):\n",
    "\n",
    "    # out of room \n",
    "    if ( i>=rows or j>=cols or i<0 or j<0):\n",
    "        return\n",
    "    \n",
    "    # skip the already visited room \n",
    "    if( vis[i][j] == 1):\n",
    "        return\n",
    "    \n",
    "    vis[i][j] = 1\n",
    "    \n",
    "    if( room[i][j] == 'd'):\n",
    "        room[i][j] = 'c'\n",
    "    \n",
    "    # go up \n",
    "    cleanRoom( room, i+1, j, rows, cols, vis)\n",
    "    # go right \n",
    "    cleanRoom( room, i, j+1, rows, cols, vis)\n",
    "    # go down \n",
    "    cleanRoom( room, i-1, j, rows, cols, vis)\n",
    "    # go left \n",
    "    cleanRoom( room, i, j-1, rows, cols, vis)"
   ]
  },
  {
   "cell_type": "code",
   "execution_count": 41,
   "metadata": {},
   "outputs": [],
   "source": [
    "room = [\n",
    "    ['d','c','d','c','d'],\n",
    "    ['d','c','d','c','d'],\n",
    "    ['d','c','d','c','d'],\n",
    "    ['d','c','d','c','d'],\n",
    "    ['d','c','d','c','d']\n",
    "]"
   ]
  },
  {
   "cell_type": "code",
   "execution_count": 42,
   "metadata": {},
   "outputs": [
    {
     "name": "stdout",
     "output_type": "stream",
     "text": [
      "vis: \n",
      "[0, 0, 0, 0, 0]\n",
      "[0, 0, 0, 0, 0]\n",
      "[0, 0, 0, 0, 0]\n",
      "[0, 0, 0, 0, 0]\n",
      "[0, 0, 0, 0, 0]\n",
      "\n",
      "Before Cleaning\n"
     ]
    },
    {
     "data": {
      "text/plain": [
       "[['d', 'c', 'd', 'c', 'd'],\n",
       " ['d', 'c', 'd', 'c', 'd'],\n",
       " ['d', 'c', 'd', 'c', 'd'],\n",
       " ['d', 'c', 'd', 'c', 'd'],\n",
       " ['d', 'c', 'd', 'c', 'd']]"
      ]
     },
     "execution_count": 42,
     "metadata": {},
     "output_type": "execute_result"
    }
   ],
   "source": [
    "rows = len(room)\n",
    "cols = len(room[0])\n",
    "\n",
    "vis = []\n",
    "\n",
    "for i in range(rows):\n",
    "    temp = []\n",
    "    for j in range(cols):\n",
    "        temp.append(0)\n",
    "    vis.append(temp)\n",
    "\n",
    "print('vis: ')\n",
    "for i in (vis):\n",
    "    print(i)\n",
    "\n",
    "# print(f\"rows : {rows} , cols : {cols}\")\n",
    "\n",
    "print(\"\\nBefore Cleaning\")\n",
    "room"
   ]
  },
  {
   "cell_type": "code",
   "execution_count": 43,
   "metadata": {},
   "outputs": [
    {
     "name": "stdout",
     "output_type": "stream",
     "text": [
      "vis: \n",
      "[1, 1, 1, 1, 1]\n",
      "[1, 1, 1, 1, 1]\n",
      "[1, 1, 1, 1, 1]\n",
      "[1, 1, 1, 1, 1]\n",
      "[1, 1, 1, 1, 1]\n",
      "\n",
      "After Cleaning\n"
     ]
    },
    {
     "data": {
      "text/plain": [
       "[['c', 'c', 'c', 'c', 'c'],\n",
       " ['c', 'c', 'c', 'c', 'c'],\n",
       " ['c', 'c', 'c', 'c', 'c'],\n",
       " ['c', 'c', 'c', 'c', 'c'],\n",
       " ['c', 'c', 'c', 'c', 'c']]"
      ]
     },
     "execution_count": 43,
     "metadata": {},
     "output_type": "execute_result"
    }
   ],
   "source": [
    "cleanRoom( room, 2,2,rows,cols, vis)\n",
    "\n",
    "print('vis: ')\n",
    "for i in (vis):\n",
    "    print(i)\n",
    "\n",
    "print(\"\\nAfter Cleaning\")\n",
    "room"
   ]
  }
 ],
 "metadata": {
  "kernelspec": {
   "display_name": "Python 3",
   "language": "python",
   "name": "python3"
  },
  "language_info": {
   "codemirror_mode": {
    "name": "ipython",
    "version": 3
   },
   "file_extension": ".py",
   "mimetype": "text/x-python",
   "name": "python",
   "nbconvert_exporter": "python",
   "pygments_lexer": "ipython3",
   "version": "3.11.0"
  }
 },
 "nbformat": 4,
 "nbformat_minor": 2
}
