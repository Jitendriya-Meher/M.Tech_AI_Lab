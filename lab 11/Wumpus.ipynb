{
 "cells": [
  {
   "cell_type": "code",
   "execution_count": 112,
   "metadata": {},
   "outputs": [],
   "source": [
    "import copy\n",
    "from queue import Queue"
   ]
  },
  {
   "cell_type": "code",
   "execution_count": 113,
   "metadata": {},
   "outputs": [],
   "source": [
    "def printWorld(world):\n",
    "    for row in world:\n",
    "        print(row)\n",
    "    print()"
   ]
  },
  {
   "cell_type": "code",
   "execution_count": 114,
   "metadata": {},
   "outputs": [],
   "source": [
    "def isSafe( world, i, j, visited):\n",
    "    n = len(world)\n",
    "    if i>=n or i<0 or j>=n or j<0:\n",
    "        return False\n",
    "    if visited[i][j] == True:\n",
    "        return\n",
    "    if world[i][j] == 'W':\n",
    "        return False\n",
    "    if world[i][j] == 'P':\n",
    "        return False\n",
    "    return True"
   ]
  },
  {
   "cell_type": "code",
   "execution_count": 115,
   "metadata": {},
   "outputs": [],
   "source": [
    "def moves_ageent( world, i, j, visited):\n",
    "\n",
    "    if world[i][j] == 'W' or world[i][j] == 'P':\n",
    "        print(\"Agent Can't Move Now\")\n",
    "        return\n",
    "    \n",
    "    if( world[i][j] == 'G'):\n",
    "        world[i][j] = 'A'\n",
    "        print(\"Gold Found!\")\n",
    "        printWorld(world)\n",
    "        return\n",
    "\n",
    "    world[i][j] = 'A'\n",
    "\n",
    "    printWorld(world)\n",
    "\n",
    "    visited[i][j] = True\n",
    "\n",
    "    moves = [(0, 1), (1, 0), (0, -1), (-1, 0)]\n",
    "\n",
    "    for di,dj in moves:\n",
    "        ni,nj = i+di,j+dj\n",
    "        if isSafe(world, ni,nj, visited):\n",
    "            new_world = copy.deepcopy(world)\n",
    "            new_world[i][j] = ' '\n",
    "            moves_ageent(new_world, ni,nj, visited)"
   ]
  },
  {
   "cell_type": "code",
   "execution_count": 117,
   "metadata": {},
   "outputs": [
    {
     "name": "stdout",
     "output_type": "stream",
     "text": [
      "[' ', ' ', ' ', 'P']\n",
      "['W', 'G', 'P', ' ']\n",
      "[' ', ' ', ' ', ' ']\n",
      "['A', ' ', 'P', ' ']\n",
      "\n",
      "[' ', ' ', ' ', 'P']\n",
      "['W', 'G', 'P', ' ']\n",
      "[' ', ' ', ' ', ' ']\n",
      "[' ', 'A', 'P', ' ']\n",
      "\n",
      "[' ', ' ', ' ', 'P']\n",
      "['W', 'G', 'P', ' ']\n",
      "[' ', 'A', ' ', ' ']\n",
      "[' ', ' ', 'P', ' ']\n",
      "\n",
      "[' ', ' ', ' ', 'P']\n",
      "['W', 'G', 'P', ' ']\n",
      "[' ', ' ', 'A', ' ']\n",
      "[' ', ' ', 'P', ' ']\n",
      "\n",
      "[' ', ' ', ' ', 'P']\n",
      "['W', 'G', 'P', ' ']\n",
      "[' ', ' ', ' ', 'A']\n",
      "[' ', ' ', 'P', ' ']\n",
      "\n",
      "[' ', ' ', ' ', 'P']\n",
      "['W', 'G', 'P', ' ']\n",
      "[' ', ' ', ' ', ' ']\n",
      "[' ', ' ', 'P', 'A']\n",
      "\n",
      "[' ', ' ', ' ', 'P']\n",
      "['W', 'G', 'P', 'A']\n",
      "[' ', ' ', ' ', ' ']\n",
      "[' ', ' ', 'P', ' ']\n",
      "\n",
      "[' ', ' ', ' ', 'P']\n",
      "['W', 'G', 'P', ' ']\n",
      "['A', ' ', ' ', ' ']\n",
      "[' ', ' ', 'P', ' ']\n",
      "\n",
      "Gold Found!\n",
      "[' ', ' ', ' ', 'P']\n",
      "['W', 'A', 'P', ' ']\n",
      "[' ', ' ', ' ', ' ']\n",
      "[' ', ' ', 'P', ' ']\n",
      "\n"
     ]
    }
   ],
   "source": [
    "world = [\n",
    "    [' ',' ',' ','P'],\n",
    "    ['W','G','P',' '],\n",
    "    [' ',' ',' ',' '],\n",
    "    [' ',' ','P',' ']\n",
    "]\n",
    "\n",
    "n = len(world)\n",
    "\n",
    "visited = []\n",
    "\n",
    "for i in range(n):\n",
    "    row = []\n",
    "    for j in range(n):\n",
    "        row.append(False)\n",
    "    visited.append(row)\n",
    "\n",
    "moves_ageent( world, 3,0, visited)"
   ]
  }
 ],
 "metadata": {
  "kernelspec": {
   "display_name": "Python 3",
   "language": "python",
   "name": "python3"
  },
  "language_info": {
   "codemirror_mode": {
    "name": "ipython",
    "version": 3
   },
   "file_extension": ".py",
   "mimetype": "text/x-python",
   "name": "python",
   "nbconvert_exporter": "python",
   "pygments_lexer": "ipython3",
   "version": "3.12.6"
  }
 },
 "nbformat": 4,
 "nbformat_minor": 2
}
