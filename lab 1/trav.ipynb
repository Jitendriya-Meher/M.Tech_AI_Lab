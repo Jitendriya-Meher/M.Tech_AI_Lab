{
 "cells": [
  {
   "cell_type": "code",
   "execution_count": 1,
   "metadata": {},
   "outputs": [
    {
     "name": "stdout",
     "output_type": "stream",
     "text": [
      "BFS = 1 2 3 4 5 6 7 \n",
      "DFS = 1 2 4 5 3 6 7 \n"
     ]
    }
   ],
   "source": [
    "\n",
    "graph = {\n",
    "  '1' : ['2','3'],\n",
    "  '2' : ['4', '5'],\n",
    "  '3' : ['6','7'],\n",
    "  '4' : [],\n",
    "  '5' : [],\n",
    "  '6' : [],\n",
    "  '7' : []\n",
    "}\n",
    "\n",
    "def notVis(arr, node):\n",
    "    for val in arr:\n",
    "        if( val == node):\n",
    "            return False\n",
    "    return True\n",
    "\n",
    "def bfs(graph,root):\n",
    "    visited = [] \n",
    "    queue = []\n",
    "\n",
    "    visited.append(root)\n",
    "    queue.append(root)\n",
    "\n",
    "    while len(queue) > 0:\n",
    "        curr = queue.pop(0)\n",
    "        print(curr, end=\" \")\n",
    "\n",
    "        for nei in graph[curr]:\n",
    "            if ( notVis(visited, nei) ):\n",
    "                visited.append(nei)\n",
    "                queue.append(nei)\n",
    "\n",
    "\n",
    "def dfs(graph,vis,node):\n",
    "    vis.append(node)\n",
    "    print(node,end=\" \")\n",
    "\n",
    "    for nei in graph[node]:\n",
    "        if( notVis(vis, nei) ):\n",
    "            dfs(graph,vis,nei)\n",
    "\n",
    "print(\"BFS = \",end=\"\")\n",
    "bfs( graph ,'1')\n",
    "print()\n",
    "\n",
    "vis = []\n",
    "print(\"DFS = \",end=\"\")\n",
    "dfs(graph,vis,'1')\n",
    "print()\n"
   ]
  }
 ],
 "metadata": {
  "kernelspec": {
   "display_name": "Python 3",
   "language": "python",
   "name": "python3"
  },
  "language_info": {
   "codemirror_mode": {
    "name": "ipython",
    "version": 3
   },
   "file_extension": ".py",
   "mimetype": "text/x-python",
   "name": "python",
   "nbconvert_exporter": "python",
   "pygments_lexer": "ipython3",
   "version": "3.11.0"
  }
 },
 "nbformat": 4,
 "nbformat_minor": 2
}
