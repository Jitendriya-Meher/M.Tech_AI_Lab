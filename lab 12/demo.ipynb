{
 "cells": [
  {
   "cell_type": "code",
   "execution_count": 4,
   "metadata": {},
   "outputs": [
    {
     "name": "stdout",
     "output_type": "stream",
     "text": [
      "Triangular Membership Degree at x=4.5: 0.8333333333333334\n"
     ]
    }
   ],
   "source": [
    "def triangular_mf(x, a, b, c):\n",
    "    if x < a or x > c:\n",
    "        return 0\n",
    "    elif a <= x < b:\n",
    "        return (x - a) / (b - a)\n",
    "    elif b <= x <= c:\n",
    "        return (c - x) / (c - b)\n",
    "\n",
    "# Example usage\n",
    "x = 4.5\n",
    "membership_degree = triangular_mf(x, 2, 5, 8)\n",
    "print(f\"Triangular Membership Degree at x={x}: {membership_degree}\")\n"
   ]
  }
 ],
 "metadata": {
  "kernelspec": {
   "display_name": "Python 3",
   "language": "python",
   "name": "python3"
  },
  "language_info": {
   "codemirror_mode": {
    "name": "ipython",
    "version": 3
   },
   "file_extension": ".py",
   "mimetype": "text/x-python",
   "name": "python",
   "nbconvert_exporter": "python",
   "pygments_lexer": "ipython3",
   "version": "3.11.0"
  }
 },
 "nbformat": 4,
 "nbformat_minor": 2
}
